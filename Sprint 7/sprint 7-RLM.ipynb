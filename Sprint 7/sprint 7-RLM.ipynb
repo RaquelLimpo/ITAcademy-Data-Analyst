{
 "cells": [
  {
   "cell_type": "markdown",
   "metadata": {},
   "source": [
    "## Nivell 1 <br>\n",
    "***\n",
    "**Exercici 1** <br>\n",
    "Calculadora de l'índex de massa corporal<br>\n",
    "    • Escriu una funció que calculi l'IMC ingressat per l'usuari/ària, és a dir, qui ho executi haurà d'ingressar aquestes dades. Pots obtenir més informació del seu càlcul en:<br>\n",
    "      -> *[Índice de masa corporal IMC que es y como se calcula.](https://muysalud.com/salud/indice-de-masa-corporal-imc-que-es-y-como-se-calcula/)*<br>\n",
    "    • La funció ha de classificar el resultat en les seves respectives categories<br>"
   ]
  },
  {
   "cell_type": "code",
   "execution_count": null,
   "metadata": {},
   "outputs": [
    {
     "name": "stdout",
     "output_type": "stream",
     "text": [
      "El teu IMC és: 22.86\n",
      "Tens un pes normal.\n",
      "Gracies per fer servir el nostre programa. Aquest és el primer pas per millorar els teus hàbits. Anim!\n"
     ]
    }
   ],
   "source": [
    "def calcul_imc(altura, pes):\n",
    "    imc = pes / (altura ** 2)\n",
    "    return imc\n",
    "def imc_msg(imc):\n",
    "    if imc < 18.5:\n",
    "        return \"Estàs per sota del pes normal. Has de vigilar la teva salut. Consulta al teu metge de capçalera per més informació.\"\n",
    "    elif 18.5 <= imc < 24.9:\n",
    "        return \"Tens un pes normal. Felicitats! Manté aquest estil de vida.\"\n",
    "    elif 25 <= imc < 29.9:\n",
    "        return \"Tens sobrepès. Has de començar a cuidar-te menjant més verdures, fent una mica d'exercici i cuidante de l'estrés\"\n",
    "    else:\n",
    "        return \"Tens obesitat. Existeix risc de tenir problemes cardiovasculars. Consulta al teu metge de capçalera per més informació.\"\n",
    "def main():\n",
    "    peso = float(input(\"Introdueix el teu pes en kilograms (per exemple 60): \"))\n",
    "    altura = float(input(\"Introdueix la teva alçada en metres (per exemple 1.65): \"))\n",
    "    imc = calculate_imc(peso, altura)\n",
    "    \n",
    "    print(f\"\\nEl teu IMC és: {imc:.2f}\")\n",
    "    print(imc_msg(imc))\n",
    "    print(\"Per a més informació sobre el IMC, visita el següent enllaç: https://www.who.int/es/news-room/fact-sheets/detail/body-mass-index\")\n",
    "    print(\"Gràcies per fer servir el nostre programa. Aquest és el primer pas per millorar els teus hàbits. Ànim!\")\n"
   ]
  },
  {
   "cell_type": "code",
   "execution_count": null,
   "metadata": {},
   "outputs": [
    {
     "name": "stdout",
     "output_type": "stream",
     "text": [
      "El teu IMC és: 19.39\n",
      "Tens un pes normal. Felicitats! Manté aquest estil de vida.\n"
     ]
    },
    {
     "data": {
      "image/png": "[encoded data removed]",
      "text/plain": [
       "<Figure size 800x500 with 1 Axes>"
      ]
     },
     "metadata": {},
     "output_type": "display_data"
    },
    {
     "name": "stdout",
     "output_type": "stream",
     "text": [
      "Gracies per fer servir el nostre programa. Aquest és el primer pas per millorar els teus hàbits. Anim!\n"
     ]
    }
   ],
   "source": [
    "import matplotlib.pyplot as plt\n",
    "import numpy as np\n",
    "\n",
    "def calculate_imc(weight, height):\n",
    "    return weight / (height ** 2)\n",
    "\n",
    "def get_imc_message(imc):\n",
    "    if imc < 18.5:\n",
    "        return \"Estàs per sota del pes normal. Has de vigilar la teva salut. Consulta al teu metge de capçalera per més informació.\"\n",
    "    elif 18.5 <= imc < 24.9:\n",
    "        return \"Tens un pes normal. Felicitats! Manté aquest estil de vida.\"\n",
    "    elif 25 <= imc < 29.9:\n",
    "        return \"Tens sobrepès. Has de començar a cuidar-te menjant més verdures, fent una mica d'exercici i cuidant-te de l'estrès.\"\n",
    "    else:\n",
    "        return \"Tens obesitat. Existeix risc de tenir problemes cardiovasculars. Consulta al teu metge de capçalera per més informació.\"\n",
    "\n",
    "def plot_imc_indicator(imc):\n",
    "    categories = [\"Bajo peso\", \"Normal\", \"Sobrepeso\", \"Obesidad grado I\", \"Obesidad grado II\", \"Obesidad grado III\"]\n",
    "    ranges = [0, 18.5, 24.9, 29.9, 34.9, 39.9, np.inf]\n",
    "    colors = ['blue', 'green', 'yellow', 'orange', 'red', 'darkred']\n",
    "    \n",
    "    category_index = np.digitize(imc, ranges) - 1\n",
    "    category_index = min(category_index, len(categories) - 1)\n",
    "    \n",
    "    plt.figure(figsize=(8, 5))\n",
    "    bars = plt.bar(categories, [1] * len(categories), color=colors, alpha=0.5)\n",
    "    bars[category_index].set_alpha(1.0)\n",
    "    bars[category_index].set_edgecolor(\"black\")\n",
    "    bars[category_index].set_linewidth(2)\n",
    "    \n",
    "    plt.axvline(x=category_index, color='black', linestyle='--', linewidth=2)\n",
    "    plt.text(category_index, 1.1, f\"IMC: {imc:.1f}\", ha='center', fontsize=12, fontweight='bold', color='black')\n",
    "    \n",
    "    plt.xlabel(\"Categoría de IMC\")\n",
    "    plt.ylabel(\"Indicador\")\n",
    "    plt.title(\"Tu IMC en la escala de clasificación\")\n",
    "    plt.xticks(rotation=20)\n",
    "    plt.yticks([])\n",
    "    plt.ylim(0, 1.5)\n",
    "    \n",
    "    plt.show()\n",
    "\n",
    "def main():\n",
    "    peso = float(input(\"Introdueix el teu pes en kilograms (per exemple 60): \"))\n",
    "    altura = float(input(\"Introdueix la teva alçada en metres (per exemple 1.65): \"))\n",
    "    \n",
    "    imc = calculate_imc(peso, altura)\n",
    "    print(f\"\\nEl teu IMC és: {imc:.2f}\")\n",
    "    print(imc_msg(imc))\n",
    "    \n",
    "    plot_imc_indicator(imc)\n",
    "    \n",
    "    print(\"Gràcies per fer servir el nostre programa. Aquest és el primer pas per millorar els teus hàbits. Ànim!\")\n",
    "\n"
   ]
  },
  {
   "cell_type": "markdown",
   "metadata": {},
   "source": [
    "**Exercici 2** <br>\n",
    "**Convertidor de temperatures.** <br>\n",
    "\n",
    "Existeixen diverses unitats de temperatura utilitzades en diferents contextos i regions. Les més comunes són Celsius (°C), Fahrenheit (°F) i Kelvin (K). També existeixen altres unitats com Rankine (°Ra) i Réaumur (°Re). <br>\n",
    "*https://blog.beamex.com/es/unidades-de-temperatura-y-sus-conversiones*<br>\n",
    "Selecciona almenys 2 conversors, de tal manera que en introduir una temperatura retorni, com a mínim, dues conversions.<br>"
   ]
  },
  {
   "cell_type": "code",
   "execution_count": 10,
   "metadata": {},
   "outputs": [
    {
     "name": "stdout",
     "output_type": "stream",
     "text": [
      "Benvingut/da al convertidor de temperatura: \n",
      "Escull una opció:\n",
      "1. Celsius a Fahrenheit\n",
      "2. Celsius a Kelvin\n",
      "3. Fahrenheit a Celsius\n",
      "4. Fahrenheit a Kelvin\n",
      "5. Kelvin a Celsius\n",
      "6. Kelvin a Fahrenheit\n",
      "La temperatura és 4.44ºC\n",
      "Gracies per fer servir el nostre programa.\n"
     ]
    }
   ],
   "source": [
    "def fahrenheit_a_celsius(temperatura):\n",
    "    return (temperatura - 32) / 1.8\n",
    "\n",
    "def celsius_a_kelvin(temperatura):\n",
    "    return temperatura + 273.15\n",
    "\n",
    "def fahrenheit_a_kelvin(temperatura): \n",
    "    return celsius_a_kelvin(fahrenheit_a_celsius(temperatura))\n",
    "\n",
    "def kelvin_a_celsius(temperatura):\n",
    "    return temperatura - 273.15\n",
    "\n",
    "def celsius_a_fahrenheit(temperatura):\n",
    "    return temperatura * 1.8 + 32\n",
    "\n",
    "def kelvin_a_fahrenheit(temperatura): \n",
    "    return celsius_a_fahrenheit(kelvin_a_celsius(temperatura))\n",
    "\n",
    "def main():\n",
    "    print(\"Benvingut/da al convertidor de temperatura: \")\n",
    "    temperatura = float(input(\"Introdueix la temperatura que vols convertir: \"))\n",
    "    print(\"Escull una opció:\")\n",
    "    print(\"1. Celsius a Fahrenheit\")\n",
    "    print(\"2. Celsius a Kelvin\")\n",
    "    print(\"3. Fahrenheit a Celsius\")\n",
    "    print(\"4. Fahrenheit a Kelvin\")\n",
    "    print(\"5. Kelvin a Celsius\")\n",
    "    print(\"6. Kelvin a Fahrenheit\")\n",
    "    tipus = int(input(\"Introdueix el número de l'opció desitjada: \"))\n",
    "\n",
    "    if tipus == 1:\n",
    "        resultat = celsius_a_fahrenheit(temperatura)\n",
    "        print(f\"La temperatura és {resultat:.2f}ºF\")\n",
    "    elif tipus == 2:\n",
    "        resultat = celsius_a_kelvin(temperatura)\n",
    "        print(f\"La temperatura és {resultat:.2f}ºK\")\n",
    "    elif tipus == 3:\n",
    "        resultat = fahrenheit_a_celsius(temperatura)\n",
    "        print(f\"La temperatura és {resultat:.2f}ºC\")\n",
    "    elif tipus == 4:\n",
    "        resultat = fahrenheit_a_kelvin(temperatura)\n",
    "        print(f\"La temperatura en K és {resultat:.2f}\")\n",
    "    elif tipus == 5:\n",
    "        resultat = kelvin_a_celsius(temperatura)\n",
    "        print(f\"La temperatura en ºC és {resultat:.2f}\")\n",
    "    elif tipus == 6:\n",
    "        resultat = kelvin_a_fahrenheit(temperatura)\n",
    "        print(f\"La temperatura en ºF és {resultat:.2f}\")\n",
    "    else:\n",
    "        print(\"Opció no vàlida.\")\n",
    "    \n",
    "    print(\"Gracies per fer servir el nostre programa.\")\n"
   ]
  },
  {
   "cell_type": "code",
   "execution_count": 11,
   "metadata": {},
   "outputs": [
    {
     "name": "stdout",
     "output_type": "stream",
     "text": [
      "La temperatura original és de 40.00 ºC\n",
      "La temperatura en Fahrenheit és de 104.00 ºF\n",
      "La temperatura en Kelvin és de 313.15 ºK\n",
      "La temperatura en Rankine és de 563.67 ºRa\n",
      "La temperatura en Réaumur és de 32.00 ºRe\n"
     ]
    }
   ],
   "source": [
    "def celsius_a_fahrenheit(temperatura):\n",
    "    return temperatura * 1.8 + 32\n",
    "\n",
    "def celsius_a_kelvin(temperatura):\n",
    "    return temperatura + 273.15\n",
    "\n",
    "def celsius_a_rankine(temperatura):\n",
    "    return (temperatura * 1.8) + 491.67\n",
    "\n",
    "def celsius_a_reaumur(temperatura):\n",
    "    return temperatura / 1.25\n",
    "\n",
    "def main():\n",
    "    temperatura = float(input(\"Introdueix la temperatura en celsius (ºC) que vols convertir: \"))\n",
    "    \n",
    "    print(f\"La temperatura original és de {temperatura:.2f} ºC\")\n",
    "    print(f\"La temperatura en Fahrenheit és de {celsius_a_fahrenheit(temperatura):.2f} ºF\")\n",
    "    print(f\"La temperatura en Kelvin és de {celsius_a_kelvin(temperatura):.2f} ºK\")\n",
    "    print(f\"La temperatura en Rankine és de {celsius_a_rankine(temperatura):.2f} ºRa\")\n",
    "    print(f\"La temperatura en Réaumur és de {celsius_a_reaumur(temperatura):.2f} ºRe\")"
   ]
  },
  {
   "cell_type": "markdown",
   "metadata": {},
   "source": [
    "**Exercici 3** <br>\n",
    "**Comptador de paraules d'un text.** <br>\n",
    "\n",
    "Escriu una funció que donat un text, mostri les vegades que apareix cada paraula.<br>"
   ]
  },
  {
   "cell_type": "code",
   "execution_count": 12,
   "metadata": {},
   "outputs": [
    {
     "name": "stdout",
     "output_type": "stream",
     "text": [
      "Aquest programa demana un text i retorna un diccionari amb les paraules que apareixen i la quantitat de cops que apareixen.\n",
      "\n",
      "Diccionari de paraules i quantitat de cops que apareixen:\n",
      "Counter({'We’re': 2, 'really': 2, 'what': 2, 'know': 2, 'to': 2, 'a': 2, 'us': 2, 'take': 2, 'you': 2, 'proud': 1, 'of': 1, 'we’ve': 1, 'built,': 1, 'but': 1, 'we': 1, 'there': 1, 'is': 1, 'always': 1, 'room': 1, 'improve.': 1, 'hoping': 1, 'that': 1, 'your': 1, 'feedback': 1, 'will': 1, 'play': 1, 'big': 1, 'part': 1, 'in': 1, 'helping': 1, 'Tabnine': 1, 'the': 1, 'next': 1, 'level.': 1, 'That’s': 1, 'why': 1, 'we’d': 1, 'appreciate': 1, 'it': 1, 'if': 1, 'could': 1, 'minute': 1, 'and': 1, 'let': 1, 'would': 1, 'change.': 1})\n",
      "fi del programa\n"
     ]
    }
   ],
   "source": [
    "from collections import Counter\n",
    "import re\n",
    "\n",
    "def process_text(text):\n",
    "    text = text.lower()  \n",
    "    text = re.sub(r'[^\\w\\s]', '', text)  \n",
    "    words = text.split()  \n",
    "    return Counter(words)\n",
    "\n",
    "def main():\n",
    "    print(\"Aquest programa demana un text i retorna un diccionari amb les paraules que apareixen i la quantitat de cops que apareixen.\")\n",
    "    text = input(\"Introdueix un text: \")\n",
    "    \n",
    "    word_count = process_text(text)\n",
    "    \n",
    "    print(\"\\nDiccionari de paraules i quantitat de cops que apareixen:\")\n",
    "    for word, count in word_count.items():\n",
    "        print(f\"{word}: {count}\")\n",
    "    \n",
    "    print(\"Fi del programa.\")"
   ]
  },
  {
   "cell_type": "markdown",
   "metadata": {},
   "source": [
    "**Exercici 4**<br>\n",
    "**Diccionari invers.** <br>\n",
    "\n",
    "Resulta que el client té una enquesta molt antiga que s'emmagatzema en un diccionari i els resultats els necessita al revés, és a dir, intercanviats les claus i els valors. <br>Els valors i claus en el diccionari original són únics; si aquest no és el cas, la funció hauria d'imprimir un missatge d'advertiment.<br>"
   ]
  },
  {
   "cell_type": "code",
   "execution_count": 13,
   "metadata": {},
   "outputs": [
    {
     "name": "stdout",
     "output_type": "stream",
     "text": [
      "Diccionari invertit: {'Brennan': 'nom', 'Wynn': 'cognom', 36: 'edat', 'Lewiston': 'ciutat', 'EEUU': 'pais', 264: 'mitjana', 6615: 'vendes'}\n"
     ]
    }
   ],
   "source": [
    "def intercanviar_claus_i_valors(diccionari):\n",
    "    if len(diccionari) != len(set(diccionari.values())):\n",
    "        print(\"Advertència: Els valors no són únics.\")\n",
    "        return None\n",
    "   \n",
    "    diccionari_invertit = {valor: clau for clau, valor in diccionari.items()}\n",
    "    return diccionari_invertit\n",
    "\n",
    "def main():\n",
    "    diccionari_original = {\n",
    "        \"nom\": \"Brennan\",\n",
    "        \"cognom\": \"Wynn\",\n",
    "        \"edat\": 36,\n",
    "        \"ciutat\": \"Lewiston\",\n",
    "        \"pais\": \"EEUU\",\n",
    "        \"mitjana\": 264,\n",
    "        \"vendes\": 6615\n",
    "    }\n",
    "    \n",
    "    diccionari_invertit = intercanviar_claus_i_valors(diccionari_original)\n",
    "    \n",
    "    if diccionari_invertit:\n",
    "        print(\"Diccionari invertit:\")\n",
    "        for clau, valor in diccionari_invertit.items():\n",
    "            print(f\"{clau}: {valor}\")\n",
    "\n"
   ]
  },
  {
   "cell_type": "markdown",
   "metadata": {},
   "source": [
    "## Nivell 2 <br>\n",
    "***\n",
    "\n",
    "**Exercici 1** <br>\n",
    "**Diccionari invers amb duplicats** <br>\n",
    "\n",
    "Continuant amb l'exercici 4 del nivell 1: al client es va oblidar de comentar un detall i resulta que els valors en el diccionari original poden duplicar-se i més, per la qual cosa les claus intercanviades poden tenir duplicats. <br>\n",
    "En aquest cas, en l'exercici anterior imprimies un missatge d'advertiment, ara, els valors del diccionari resultant hauran d'emmagatzemar-se com una llista. <br>\n",
    "Tingues en compte que si és un valor únic no ha de ser una llista.<br>"
   ]
  },
  {
   "cell_type": "code",
   "execution_count": 14,
   "metadata": {},
   "outputs": [
    {
     "name": "stdout",
     "output_type": "stream",
     "text": [
      "Diccionari invertit: {'Brennan': 'nom', 'Wynn': 'cognom', 36: 'edat', 'Lewiston': 'ciutat', 'EEUU': 'pais', 264: 'mitjana', 6615: 'vendes'}\n"
     ]
    }
   ],
   "source": [
    "def intercanviar_claus_i_valors(diccionari):\n",
    "    diccionari_invertit = {}\n",
    "\n",
    "    for clau, valor in diccionari.items():\n",
    "        if valor in diccionari_invertit:\n",
    "            if isinstance(diccionari_invertit[valor], list):\n",
    "                diccionari_invertit[valor].append(clau)\n",
    "            else:\n",
    "                diccionari_invertit[valor] = [diccionari_invertit[valor], clau]\n",
    "        else:\n",
    "            diccionari_invertit[valor] = clau\n",
    "\n",
    "    return diccionari_invertit\n",
    "\n",
    "def main():\n",
    "    diccionari_original = {\n",
    "        \"nom\": \"Brennan\",\n",
    "        \"cognom\": \"Wynn\",\n",
    "        \"edat\": 36,\n",
    "        \"ciutat\": \"Lewiston\",\n",
    "        \"pais\": \"EEUU\",\n",
    "        \"mitjana\": 264,\n",
    "        \"vendes\": 6615\n",
    "    }\n",
    "    \n",
    "    diccionari_invertit = intercanviar_claus_i_valors(diccionari_original)\n",
    "    \n",
    "    print(\"Diccionari invertit:\")\n",
    "    for clau, valor in diccionari_invertit.items():\n",
    "        print(f\"{clau}: {valor}\")\n",
    "\n"
   ]
  },
  {
   "cell_type": "markdown",
   "metadata": {},
   "source": [
    "**Exercici 2** <br>\n",
    "**Conversió de tipus de dades**<br>\n",
    "\n",
    "El client rep una llista de dades i necessita generar dues llistes, la primera on estaran tots els elements que es van poder convertir en flotants i l'altra on estan els elements que no es van poder convertir. <br>\n",
    "Exemple de la llista que rep el client: [ '1.3', 'one' , '1e10' , 'seven', '3-1/2', ('2',1,1.4,'not-a-number'), [1,2,'3','3.4']]<br>"
   ]
  },
  {
   "cell_type": "code",
   "execution_count": 16,
   "metadata": {},
   "outputs": [
    {
     "name": "stdout",
     "output_type": "stream",
     "text": [
      "Flotants: [1.3, 10000000000.0, 2.0, 1.0, 1.4, 1.0, 2.0, 3.0, 3.4]\n",
      "No convertibles: ['one', 'seven', '3-1/2', 'not-a-number']\n"
     ]
    }
   ],
   "source": [
    "def separar_flotants_no_convertibles(dades):\n",
    "    flotants = []\n",
    "    no_convertibles = []\n",
    "    \n",
    "    for element in dades:\n",
    "        try:\n",
    "            if isinstance(element, (tuple, list)):  \n",
    "                flotants_interns, no_convertibles_interns = separar_flotants_no_convertibles(element)\n",
    "                flotants.extend(flotants_interns)  \n",
    "                no_convertibles.extend(no_convertibles_interns)  \n",
    "            else:\n",
    "                flotants.append(float(element)) \n",
    "        except ValueError:\n",
    "            no_convertibles.append(element)\n",
    "    \n",
    "    return flotants, no_convertibles\n",
    "\n",
    "def main():\n",
    "    llista_dades = ['1.3', 'one', '1e10', 'siete', '3-1/2', ('2', 1, 1.4, 'no-es-un-numero'), [1, 2, '3', '3.4']]\n",
    "    \n",
    "    flotants, no_convertibles = separar_flotants_no_convertibles(llista_dades)\n",
    "    \n",
    "    print(\"Flotants:\", flotants)\n",
    "    print(\"No convertibles:\", no_convertibles)\n"
   ]
  },
  {
   "cell_type": "markdown",
   "metadata": {},
   "source": [
    "## Nivell 3 <br>\n",
    "**Exercici 1** <br>\n",
    "**Comptador i endreçador de paraules d'un text.** <br>\n",
    "\n",
    "El client va quedar content amb el comptador de paraules, però ara vol llegir arxius TXT i que calculi la freqüència de cada paraula ordenades dins de les entrades habituals del diccionari segons la lletra amb la qual comencen,<br> és a dir, les claus han d'anar de la A a la Z i dins de la A hem d'anar de la A la Z. <br>"
   ]
  },
  {
   "cell_type": "code",
   "execution_count": 17,
   "metadata": {},
   "outputs": [
    {
     "name": "stdout",
     "output_type": "stream",
     "text": [
      "A:\n",
      "  A: 3\n",
      "  AGUA: 1\n",
      "  AL: 2\n",
      "  ALBA: 4\n",
      "  ALCOBAS: 1\n",
      "  ALIMENTA: 1\n",
      "  ALMA: 1\n",
      "  AMARGA: 1\n",
      "  AZUCENA: 1\n",
      "B:\n",
      "  BACO: 1\n",
      "  BANQUETE: 1\n",
      "  BEBE: 1\n",
      "  BLANCA: 3\n",
      "  BOCA: 1\n",
      "  BOSQUES: 1\n",
      "  BUEN: 1\n",
      "C:\n",
      "  CABAÑAS: 1\n",
      "  CARNES: 2\n",
      "  CASTA: 3\n",
      "  CERRADA: 1\n",
      "  CON: 4\n",
      "  CONSERVAS: 1\n",
      "  COPAS: 1\n",
      "  COROLA: 1\n",
      "  CORRISTE: 1\n",
      "  CUANDO: 2\n",
      "  CUBIERTO: 1\n",
      "  CUERPO: 1\n",
      "  CUÁLES: 1\n",
      "D:\n",
      "  DE: 8\n",
      "  DEJASTE: 1\n",
      "  DEL: 1\n",
      "  DIGA: 1\n",
      "  DIOS: 2\n",
      "  DUERME: 1\n",
      "E:\n",
      "  EL: 4\n",
      "  ELLAS: 1\n",
      "  EN: 4\n",
      "  ENGAÑO: 1\n",
      "  ENREDADA: 1\n",
      "  ENTONCES: 1\n",
      "  ESCARCHA: 1\n",
      "  ESPUMAS: 1\n",
      "  ESQUELETO: 1\n",
      "  ESTRAGO: 1\n",
      "F:\n",
      "  FESTEJANDO: 1\n",
      "  FILTRADO: 1\n",
      "  FRUTOS: 1\n",
      "H:\n",
      "  HABLA: 1\n",
      "  HACIA: 1\n",
      "  HAYA: 1\n",
      "  HAYAS: 1\n",
      "  HERMANA: 1\n",
      "  HOMBRE: 1\n",
      "  HUBISTE: 1\n",
      "  HUYE: 1\n",
      "I:\n",
      "  INTACTO: 1\n",
      "J:\n",
      "  JARDINES: 1\n",
      "L:\n",
      "  LA: 3\n",
      "  LABIOS: 1\n",
      "  LAS: 7\n",
      "  LO: 2\n",
      "  LOS: 4\n",
      "  LUNA: 1\n",
      "  LÉVATE: 1\n",
      "  LÍMPIATE: 1\n",
      "M:\n",
      "  MANO: 1\n",
      "  MANOS: 1\n",
      "  MARGARITA: 1\n",
      "  ME: 10\n",
      "  MI: 1\n",
      "  MIELES: 1\n",
      "  MILAGROS: 1\n",
      "  MOJADA: 1\n",
      "  MONTAÑA: 1\n",
      "  MORADOS: 1\n",
      "N:\n",
      "  NEGROS: 1\n",
      "  NI: 2\n",
      "  NO: 1\n",
      "  NÁCAR: 1\n",
      "  NÍVEA: 2\n",
      "P:\n",
      "  PERDONE: 2\n",
      "  PERFUME: 1\n",
      "  POR: 2\n",
      "  PRETENDES: 3\n",
      "  PRETÉNDEME: 3\n",
      "  PUESTO: 1\n",
      "  PÁJAROS: 1\n",
      "  PÁMPANOS: 1\n",
      "Q:\n",
      "  QUE: 6\n",
      "  QUEDÓ: 1\n",
      "  QUIERES: 6\n",
      "R:\n",
      "  RAYO: 1\n",
      "  RAÍZ: 1\n",
      "  RENUEVA: 1\n",
      "  ROCAS: 1\n",
      "  ROJO: 1\n",
      "S:\n",
      "  SALITRE: 1\n",
      "  SE: 2\n",
      "  SEA: 1\n",
      "  SEAN: 1\n",
      "  SOBRE: 2\n",
      "  SÉ: 1\n",
      "T:\n",
      "  TE: 3\n",
      "  TEJIDOS: 1\n",
      "  TENUE: 1\n",
      "  TIERRA: 1\n",
      "  TOCA: 1\n",
      "  TODAS: 2\n",
      "  TODAVÍA: 1\n",
      "  TORNADAS: 1\n",
      "  TÚ: 8\n",
      "U:\n",
      "  UN: 1\n",
      "  UNA: 1\n",
      "V:\n",
      "  VESTIDO: 1\n",
      "  VETE: 1\n",
      "  VIVE: 1\n",
      "Y:\n",
      "  Y: 5\n"
     ]
    }
   ],
   "source": [
    "import string\n",
    "import re\n",
    "\n",
    "def comptar_paraules(arc):\n",
    "    paraules_dict = {lletra: {} for lletra in string.ascii_lowercase}\n",
    "    \n",
    "    with open(arc, 'r', encoding='utf-8') as f:\n",
    "        contingut = f.read().lower()\n",
    "    \n",
    "    contingut = re.sub(r'[^\\w\\s]', '', contingut) \n",
    "    paraules = contingut.split()\n",
    "    \n",
    "    for paraula in paraules:\n",
    "        primera_letra = paraula[0]\n",
    "        if paraula in paraules_dict[primera_letra]:\n",
    "            paraules_dict[primera_letra][paraula] += 1\n",
    "        else:\n",
    "            paraules_dict[primera_letra][paraula] = 1\n",
    "    \n",
    "    for lletra in paraules_dict:\n",
    "        paraules_dict[lletra] = dict(sorted(paraules_dict[lletra].items()))\n",
    "    \n",
    "    return paraules_dict\n",
    "\n",
    "def main():\n",
    "    arc = input(\"Introdueix el nom del fitxer de text que vols analitzar: \")\n",
    "    resultat = comptar_paraules(arc)\n",
    "    \n",
    "    for lletra in string.ascii_lowercase:\n",
    "        if resultat[lletra]:\n",
    "            print(f\"{lletra}:\")\n",
    "            for paraula, freq in resultat[lletra].items():\n",
    "                print(f\"  {paraula}: {freq}\")\n"
   ]
  }
 ],
 "metadata": {
  "kernelspec": {
   "display_name": "myenv",
   "language": "python",
   "name": "python3"
  },
  "language_info": {
   "codemirror_mode": {
    "name": "ipython",
    "version": 3
   },
   "file_extension": ".py",
   "mimetype": "text/x-python",
   "name": "python",
   "nbconvert_exporter": "python",
   "pygments_lexer": "ipython3",
   "version": "3.12.7"
  }
 },
 "nbformat": 4,
 "nbformat_minor": 2
}
